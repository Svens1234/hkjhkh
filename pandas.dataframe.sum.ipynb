{
 "cells": [
  {
   "cell_type": "code",
   "execution_count": 10,
   "id": "c05a4066",
   "metadata": {},
   "outputs": [],
   "source": [
    "import pandas as pd\n",
    "import numpy as np"
   ]
  },
  {
   "cell_type": "code",
   "execution_count": 2,
   "id": "3a9cd998",
   "metadata": {},
   "outputs": [],
   "source": [
    "idx = pd.MultiIndex.from_arrays([\n",
    "    ['warm', 'warm', 'cold', 'cold'],\n",
    "    ['dog', 'falcon', 'fish', 'spider']],\n",
    "    names=['blooded', 'animal'])"
   ]
  },
  {
   "cell_type": "code",
   "execution_count": 3,
   "id": "bfaaee8b",
   "metadata": {},
   "outputs": [
    {
     "data": {
      "text/plain": [
       "MultiIndex([('warm',    'dog'),\n",
       "            ('warm', 'falcon'),\n",
       "            ('cold',   'fish'),\n",
       "            ('cold', 'spider')],\n",
       "           names=['blooded', 'animal'])"
      ]
     },
     "execution_count": 3,
     "metadata": {},
     "output_type": "execute_result"
    }
   ],
   "source": [
    "idx"
   ]
  },
  {
   "cell_type": "code",
   "execution_count": 4,
   "id": "d0456871",
   "metadata": {},
   "outputs": [],
   "source": [
    "s = pd.Series([4, 2, 0, 8], name='legs', index=idx)"
   ]
  },
  {
   "cell_type": "code",
   "execution_count": 5,
   "id": "70cca42d",
   "metadata": {},
   "outputs": [
    {
     "data": {
      "text/plain": [
       "blooded  animal\n",
       "warm     dog       4\n",
       "         falcon    2\n",
       "cold     fish      0\n",
       "         spider    8\n",
       "Name: legs, dtype: int64"
      ]
     },
     "execution_count": 5,
     "metadata": {},
     "output_type": "execute_result"
    }
   ],
   "source": [
    "s"
   ]
  },
  {
   "cell_type": "code",
   "execution_count": 6,
   "id": "8f653262",
   "metadata": {},
   "outputs": [
    {
     "data": {
      "text/plain": [
       "14"
      ]
     },
     "execution_count": 6,
     "metadata": {},
     "output_type": "execute_result"
    }
   ],
   "source": [
    "s.sum()"
   ]
  },
  {
   "cell_type": "code",
   "execution_count": 7,
   "id": "4a0cb35c",
   "metadata": {},
   "outputs": [
    {
     "data": {
      "text/plain": [
       "0.0"
      ]
     },
     "execution_count": 7,
     "metadata": {},
     "output_type": "execute_result"
    }
   ],
   "source": [
    "pd.Series([], dtype=\"float64\").sum()  # min_count=0 is the default"
   ]
  },
  {
   "cell_type": "code",
   "execution_count": 8,
   "id": "3d7b4fe2",
   "metadata": {},
   "outputs": [
    {
     "data": {
      "text/plain": [
       "nan"
      ]
     },
     "execution_count": 8,
     "metadata": {},
     "output_type": "execute_result"
    }
   ],
   "source": [
    "pd.Series([], dtype=\"float64\").sum(min_count=1)"
   ]
  },
  {
   "cell_type": "code",
   "execution_count": 11,
   "id": "9dce71d1",
   "metadata": {},
   "outputs": [
    {
     "data": {
      "text/plain": [
       "0.0"
      ]
     },
     "execution_count": 11,
     "metadata": {},
     "output_type": "execute_result"
    }
   ],
   "source": [
    "pd.Series([np.nan]).sum()"
   ]
  },
  {
   "cell_type": "code",
   "execution_count": 12,
   "id": "090de5f2",
   "metadata": {},
   "outputs": [
    {
     "data": {
      "text/plain": [
       "nan"
      ]
     },
     "execution_count": 12,
     "metadata": {},
     "output_type": "execute_result"
    }
   ],
   "source": [
    "pd.Series([np.nan]).sum(min_count=1)"
   ]
  },
  {
   "cell_type": "code",
   "execution_count": null,
   "id": "0aa1b61d",
   "metadata": {},
   "outputs": [],
   "source": []
  }
 ],
 "metadata": {
  "kernelspec": {
   "display_name": "Python 3 (ipykernel)",
   "language": "python",
   "name": "python3"
  },
  "language_info": {
   "codemirror_mode": {
    "name": "ipython",
    "version": 3
   },
   "file_extension": ".py",
   "mimetype": "text/x-python",
   "name": "python",
   "nbconvert_exporter": "python",
   "pygments_lexer": "ipython3",
   "version": "3.10.5"
  }
 },
 "nbformat": 4,
 "nbformat_minor": 5
}
